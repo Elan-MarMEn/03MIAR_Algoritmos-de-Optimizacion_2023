{
  "cells": [
    {
      "cell_type": "markdown",
      "metadata": {
        "id": "view-in-github",
        "colab_type": "text"
      },
      "source": [
        "<a href=\"https://colab.research.google.com/github/Elan-MarMEn/03MIAR_Algoritmos-de-Optimizacion_2023/blob/main/SEMINARIO/Alan_Yesid_Marin_Mendez_TP.ipynb\" target=\"_parent\"><img src=\"https://colab.research.google.com/assets/colab-badge.svg\" alt=\"Open In Colab\"/></a>"
      ]
    },
    {
      "cell_type": "markdown",
      "metadata": {
        "id": "hVbXYX-RfPWh"
      },
      "source": [
        "# Algoritmos de optimización - Trabajo Práctico<br>\n",
        "Nombre y Apellidos: Alan Yesid Marin Mendez <br>\n",
        "Url: https://github.com/Elan-MarMEn/03MIAR_Algoritmos-de-Optimizacion_2023/tree/main/SEMINARIO<br>\n",
        "Google Colab: https://colab.research.google.com/drive/1DQ-Ag15yiYciByEYUFRVkkZVvA2h-om- <br>\n",
        "Problema:\n",
        "\n",
        "### Sesiones de doblaje\n",
        "Se precisa coordinar el doblaje de una película.\n",
        "Los actores del doblaje deben coincidir en las tomas en las que sus personajes aparecen juntos en las diferentes tomas.\n",
        "Los actores de doblaje cobran todos la misma cantidad por cada día que deben desplazarse hasta el estudio de grabación independientemente del número de tomas que se graben.\n",
        "No es posible grabar más de 6 tomas por día.\n",
        "Una vez se graba una toma no se vuelve a grabar\n",
        "El objetivo es planificar las sesiones por día de manera que el gasto por los servicios de los actores de doblaje sea el menor posible.\n",
        "\n",
        "Los datos son:\n",
        "- Número de actores: 10\n",
        "- Número de tomas : 30\n",
        "- Actores/Tomas : Tabla https://bit.ly/36D8IuK\n",
        "                                        "
      ]
    },
    {
      "cell_type": "markdown",
      "metadata": {
        "id": "Sbo9IqQtpaHZ"
      },
      "source": [
        "# Modelo\n",
        "- ¿Como represento el espacio de soluciones?\n",
        "- ¿Cual es la función objetivo?\n",
        "- ¿Como implemento las restricciones?"
      ]
    },
    {
      "cell_type": "markdown",
      "metadata": {
        "id": "67p_vszBposu"
      },
      "source": [
        "### **Representacion del espacio de soluciones**:\n",
        "Dado el problema de la Sesiones de doblaje lo que nos interesa es minimizar los costos que se van a tener por cada dia que un actor pase en el set, para este caso en particular la manera más sencilla de ver el espacio de soluciones es utilizando una matriz.\n",
        "\n",
        "Para rellenar la matriz se debe tener en cuenta que lo que buscamos son las mejores combinaciones de tomas por día, cabe resaltar que las tomas que se usen el dia anterior no serán utilizadas más adelante de manera que el numero de tomas totales va disminuyendo por día.\n",
        "\n",
        "| Dia 1          | Dia 2        | Dia 3          | Dia 4       | Dia 5       | Dia 6    | ... |\n",
        "|----------------|--------------|----------------|-------------|-------------|----------|-----|\n",
        "| 1,5,9,7        | 4,8,3        | 6,10,12,15     | 11,16,17,13 | 21,24,29,28 | 26,23,28 | ... |\n",
        "| 17,22,11,16,18 | 23,7,13,12,2 | 15,4,30        | None        | None        | None     | ... |\n",
        "| 6,10,12,15     | 14,28,13     | 17,22,11,16,18 | 22,25,26,3  | 30,2,4      | 20,6,1   | ... |\n",
        "| ...            | ...          | ...            | ...         | ...         | ...      | ... |\n",
        "\n",
        "La tabla anterior se plasama como seria el conjunto solucion donde pueden llegar a aencontrarse toadas las soluciones posibles al problema, viendo el comportamiento descito anteriormente en las filas 1 y 3 donde lo ideal es no re-usar las tomas, para el caso de la fila 2 es un ejemplo de lo que podria llgarse a evidenciar en aquellas soluciones que se aproximan a la optima solucion puesto que en estas soluciones la reparticion de tomas se hara de manera que para el **Dia N** ya no hayan mas tomas que utilizar lo que nos lleva a una menor cantidad de dias usados en comparacion del resto.\n",
        "\n",
        "Ahora bien, nuestra meta en este caso no es obtener la matriz completa sino que obtener una de las filas de la matriz en el mismo formato Dias x Tomas.\n",
        "Pero antes de pasar al siguente apartado definamos el conjunto de entrada.\n",
        "\n",
        "Se espera una matriz similar a la dada en el link propuesto del problema donde se tiene **Tomas x Actores** de la sigueinte manera:"
      ]
    },
    {
      "cell_type": "code",
      "execution_count": null,
      "metadata": {
        "id": "AiskKkzZfy4e",
        "outputId": "3fe1d9e7-4238-496b-a580-27ab76eac3f3"
      },
      "outputs": [
        {
          "data": {
            "text/plain": [
              "array([[1., 1., 1., 1., 1., 0., 0., 0., 0., 0.],\n",
              "       [0., 0., 1., 1., 1., 0., 0., 0., 0., 0.],\n",
              "       [0., 1., 0., 0., 1., 0., 1., 0., 0., 0.],\n",
              "       [1., 1., 0., 0., 0., 0., 1., 1., 0., 0.],\n",
              "       [0., 1., 0., 1., 0., 0., 0., 1., 0., 0.],\n",
              "       [1., 1., 0., 1., 1., 0., 0., 0., 0., 0.],\n",
              "       [1., 1., 0., 1., 1., 0., 0., 0., 0., 0.],\n",
              "       [1., 1., 0., 0., 0., 1., 0., 0., 0., 0.],\n",
              "       [1., 1., 0., 1., 0., 0., 0., 0., 0., 0.],\n",
              "       [1., 1., 0., 0., 0., 1., 0., 0., 1., 0.],\n",
              "       [1., 1., 1., 0., 1., 0., 0., 1., 0., 0.],\n",
              "       [1., 1., 1., 1., 0., 1., 0., 0., 0., 0.],\n",
              "       [1., 0., 0., 1., 1., 0., 0., 0., 0., 0.],\n",
              "       [1., 0., 1., 0., 0., 1., 0., 0., 0., 0.],\n",
              "       [1., 1., 0., 0., 0., 0., 1., 0., 0., 0.],\n",
              "       [0., 0., 0., 1., 0., 0., 0., 0., 0., 1.],\n",
              "       [1., 0., 1., 0., 0., 0., 0., 0., 0., 0.],\n",
              "       [0., 0., 1., 0., 0., 1., 0., 0., 0., 0.],\n",
              "       [1., 0., 1., 0., 0., 0., 0., 0., 0., 0.],\n",
              "       [1., 0., 1., 1., 1., 0., 0., 0., 0., 0.],\n",
              "       [0., 0., 0., 0., 0., 1., 0., 1., 0., 0.],\n",
              "       [1., 1., 1., 1., 0., 0., 0., 0., 0., 0.],\n",
              "       [1., 0., 1., 0., 0., 0., 0., 0., 0., 0.],\n",
              "       [0., 0., 1., 0., 0., 1., 0., 0., 0., 0.],\n",
              "       [1., 1., 0., 1., 0., 0., 0., 0., 0., 1.],\n",
              "       [1., 0., 1., 0., 1., 0., 0., 0., 1., 0.],\n",
              "       [0., 0., 0., 1., 1., 0., 0., 0., 0., 0.],\n",
              "       [1., 0., 0., 1., 0., 0., 0., 0., 0., 0.],\n",
              "       [1., 0., 0., 0., 1., 1., 0., 0., 0., 0.],\n",
              "       [1., 0., 0., 1., 0., 0., 0., 0., 0., 0.]])"
            ]
          },
          "execution_count": 1,
          "metadata": {},
          "output_type": "execute_result"
        }
      ],
      "source": [
        "import numpy as np\n",
        "tomas =30\n",
        "actores =10\n",
        "sesion_doblaje= np.zeros((tomas,actores))\n",
        "\n",
        "def agregar_participaciones(actor,tomas_asignadas):\n",
        "    for a in tomas_asignadas:\n",
        "        sesion_doblaje[a-1][actor-1]=1\n",
        "\n",
        "agregar_participaciones(1,[1,4,6,7,8,9,10,11,12,13,14,15,17,19,20,22,23,25,26,28,29,30])\n",
        "agregar_participaciones(2,[1,3,4,5,6,7,8,9,10,11,12,15,22,25])\n",
        "agregar_participaciones(3,[1,2,11,12,14,17,18,19,20,22,23,24,26])\n",
        "agregar_participaciones(4,[1,2,5,6,7,9,12,13,16,20,22,25,27,28,30])\n",
        "agregar_participaciones(5,[1,2,3,6,7,11,13,20,26,27,29])\n",
        "agregar_participaciones(6,[8,10,12,14,18,21,24,29])\n",
        "agregar_participaciones(7,[3,4,15])\n",
        "agregar_participaciones(8,[4,5,11,21])\n",
        "agregar_participaciones(9,[10,26])\n",
        "agregar_participaciones(10,[16,25])\n",
        "\n",
        "sesion_doblaje\n"
      ]
    },
    {
      "cell_type": "markdown",
      "metadata": {
        "id": "7GtiILzairtn"
      },
      "source": [
        "### **Funcion objetivo**\n",
        "\n",
        "Para el problema que estamos viendo nuestra meta es obtener el mínimo de días posibles que se traduce a obtener el costo mínimo. Antes de definir la función objetivo nos enfocaremos en cómo se compone el costo teniendo en cuenta una única toma:\n",
        "\n",
        "$\\begin{aligned}\n",
        "\\ t = C \\cdot A_t\n",
        "\\end{aligned}$\n",
        "\n",
        "Entonces decimos que el costo de una única toma es equivalente al número de actores participantes $(A_t)$ multiplicado el costo fijo.\n",
        "\n",
        "Sin tener en cuenta de momento las restricciones planteadas diríamos que nuestro fin es la sumatoria de todas las tomas $(t)$ que se planean realizar llevándonos a:\n",
        "\n",
        "\n",
        "$\\begin{aligned}\n",
        "\\ T = \\sum_{i=1}^{N} t_i\n",
        "\\end{aligned}$\n",
        "\n",
        "Sin embargo, como se detalla en el problema inicial el pago del actor se realiza por dia de trabajo independiente de las tomas realizadas, por lo que la ecuación de $t$ cambiará ya que en las anteriores tomas se tiene en cuenta el pago por toma realizada, lo que nos lleva a plantear lo siguiente:\n",
        "\n",
        "$\\begin{aligned}\n",
        "\\ d = C \\cdot A_nr\n",
        "\\end{aligned}$\n",
        "\n",
        "donde $d$ se define como el número de actores no repetidos $(A_nr)$ que participaron en las tomas del día $i$ multiplicado por el costo fijo. esto nos lleva a tener la siguiente expresion:\n",
        "\n",
        "\n",
        "$$\\begin{aligned}\n",
        "\\ T = \\sum_{i=1}^{M} d_i\n",
        "\\end{aligned}$$\n",
        "\n",
        "\n",
        "con la cual se obtiene un costo adecuado en comparación con la función $(T)$ definida anteriormente, ya que se considera el pago de los actores en función de los días trabajados.\n",
        "\n"
      ]
    },
    {
      "cell_type": "markdown",
      "metadata": {
        "id": "vT3o9vPkirto"
      },
      "source": [
        "### **Implementacion de las restriciones**\n",
        "\n",
        "Según el planteamiento del problema hace mención de una restricción que limita el número de tomas por día, pero esto no implica ningún cambio tanto en el espacio de soluciones como el la función objetiva planteada pero se debe tomar en cuenta para la implementación de la solución al problema.\n",
        "\n",
        "Por lo tanto vamos a definir una función simple en la cual vamos a presuponer que nos llegar el conjunto de días(por completar) y la labor principal será verificar si es posible agregar una toma más al día $(i)$, de la siguiente manera:"
      ]
    },
    {
      "cell_type": "code",
      "execution_count": null,
      "metadata": {
        "id": "PCsqefVtirtp"
      },
      "outputs": [],
      "source": [
        "def hay_capacidad(dia, lista_días):\n",
        "    capacidad = False\n",
        "    if len(lista_días[dia]) < 6:\n",
        "        capacidad = True\n",
        "    return capacidad"
      ]
    },
    {
      "cell_type": "markdown",
      "metadata": {
        "id": "Jt-Cl-l3irtq"
      },
      "source": [
        "Otra de las restricciones a tener en cuenta es el uso único por toma para poder hacerlo lo que necesitamos es que de alguna forma se ignoren aquellas tomas que ya hemos utilizado y para ello vamos a definir otra función.\n",
        "Para esta función se va implementar un listado de tomas disponibles y con el uso de un índice cada vez que se avance en una toma se va descartar la anterior es decir que:\n",
        "\n",
        "Sea $(t)$ nuestro índice de tomas se tendria lo siguiente:\n",
        "\n",
        "$(t+1)$  toma por revisar.\n",
        "\n",
        "$(t)$ toma en revisión.\n",
        "\n",
        "$(t-1)$ toma revisada.\n",
        "\n",
        "A la larga será una lista sin más, muy parecida al conjunto de entrada que planteamos en el apartado anterior, solo que a esta lista de índices de las tomas le aplicaremos un ordenamiento basado en la cantidad  de actores participantes con la finalidad de apoyar la técnica que describimos más adelante.\n"
      ]
    },
    {
      "cell_type": "code",
      "execution_count": null,
      "metadata": {
        "id": "w_8_RMA9irtr"
      },
      "outputs": [],
      "source": [
        "def obtener_tomas_diponibles(tabla):\n",
        "    toma_x_particpantes = np.sum(tabla, axis=1)\n",
        "    tomas_oredenadas = np.argsort(toma_x_particpantes)\n",
        "    return tomas_oredenadas[::-1]\n",
        "\n",
        "tomas_ordenadas=obtener_tomas_diponibles(sesion_doblaje)"
      ]
    },
    {
      "cell_type": "markdown",
      "metadata": {
        "id": "t39W6VRuirts"
      },
      "source": [
        "Cabe resaltar que otra alternativa de ordenamiento seria usando como criterio principal la frecuencia de los actores en la sesión total, de manera que aquellas tomas en las que participan actores similares estarán adyacentes y se podrán acceder mas facilmente."
      ]
    },
    {
      "cell_type": "markdown",
      "metadata": {
        "id": "HZz52wOppp-U"
      },
      "source": [
        "# Análisis\n",
        "- ¿Que complejidad tiene el problema?. Orden de complejidad y Contabilizar el espacio de soluciones"
      ]
    },
    {
      "cell_type": "markdown",
      "metadata": {
        "id": "qmaaTFkOirtt"
      },
      "source": [
        "\n",
        "Para determinar una complejidad temporal se requiere tener presente que tipo de algoritmo es el que se va a procesar, sin embargo para este caso es posible definir una complejidad basándose en el planteamiento del problema.\n",
        "\n",
        "Como lo sugiere el problema la cantidad de tomas puede incrementar hasta el infinito y como nosotros de alguna manera u otra vamos a requerir explorar cada toma esto significa una temporalidad lineal $O(n)$ que representa el número de tomas a recorrer.\n",
        "\n",
        "Por otra parte al igual que las tomas el número de actores puede crecer al infinito lo que representaría otro recorrido lineal $O(a)$, pero para solucionar el problema es necesario conocer qué actor participará o no en cada toma de tal manera que la complejidad temporal estaría dada por:\n",
        "\n",
        "\n",
        "$\\begin{aligned}\n",
        "O(n \\cdot a)\n",
        "\\end{aligned}$\n",
        "\n",
        "\n",
        "Contabilizar el espacio de soluciones es sencillo pues basta con usar combinatoria el unico problema sería identificar que agrupacion aplicar. Sabemos que cada día de grabación se realizan un máximo de 6 tomas que no se repiten, lo que significa que buscamos todas las ordenaciones posibles de un subconjunto de 6 espacios partiendo de un conjunto más grande, es decir variaciones sin repetición.\n",
        "\n",
        "\n",
        "$\\begin{aligned}\n",
        "V = \\frac{n!}{(n - r)!}\n",
        "\\end{aligned}$\n",
        "\n",
        "donde:\n",
        "- $(n)$ será las tomas posibles  \n",
        "- $(r)$ nuestro subconjunto de 6 tomas sin repetición\n",
        "    - El número de tomas siempre deberá ser mayor a 6 teniendo en cuenta la restricción del problema\n",
        "\n",
        "Dado el conjunto de los datos del problema:\n",
        "\n",
        "$$\\begin{aligned}\n",
        "V = \\frac{30!}{(30 - 6)!} = 14250600\n",
        "\\end{aligned}$$\n"
      ]
    },
    {
      "cell_type": "markdown",
      "metadata": {
        "id": "ixEJUwH_pv7M"
      },
      "source": [
        "# Diseño\n",
        "- ¿Que técnica utilizo? ¿Por qué?"
      ]
    },
    {
      "cell_type": "markdown",
      "metadata": {
        "id": "xvboRtf_irtw"
      },
      "source": [
        "Desde un principio, se abordó la resolución del problema con una estrategia manual, comenzando con un conjunto de datos notablemente más pequeño.\n",
        "Este enfoque llevó al desarrollo de un algoritmo inicial con lOs siguientes pasos para un conjunto de solo 4 tomas:\n",
        "\n",
        "1) Agregar una toma inicial que tenga el mayor número de actores.\n",
        "\n",
        "2) Selecciona toma\n",
        "\n",
        "3) Agregar la siguiente toma que tenga actores similares con respecto a la toma seleccionada\n",
        "    - sino agregar cualquiera\n",
        "    \n",
        "4) Repetir hasta que no queden tomas\n",
        "\n",
        "Dada esta primera aproximación para resolver el problema, se utilizó como base para definir la estructura de los datos necesarios y cómo podrían ser procesados. Debido a la simplicidad y facilidad de su diseño, que aún así permite una eficiencia (aunque no para todos los casos), se optó por utilizar un enfoque de búsqueda mediante un **Algoritmo voraz**.\n",
        "\n",
        "La magia de los algoritmos voraces reside en su capacidad para seleccionar soluciones óptimas en cada iteración, independientemente de las implicaciones a largo plazo. Al priorizar la elección de las opciones más beneficiosas en cada paso del proceso, ocasionalmente surge la posibilidad de que la mejor decisión a corto plazo conduzca a una solución óptima final. Esta estrategia demostró ser efectiva en la práctica durante el paso 3 del mini algoritmo anterior, lo cual condujo en parte a la elección la técnica a utilizar.\n",
        "\n",
        "Antes de definir el algoritmo, debemos implementar una función que nos permita seleccionar la opción más beneficiosa.\n",
        "\n",
        "- Funcion para determinar un estructura de datos que facilite la eleccion mas optima del momento:"
      ]
    },
    {
      "cell_type": "code",
      "execution_count": null,
      "metadata": {
        "id": "ZdKPjB9gp2BA",
        "outputId": "520e7ca5-e009-400f-95c3-59f793b71595"
      },
      "outputs": [
        {
          "name": "stdout",
          "output_type": "stream",
          "text": [
            "[{0, 1, 2, 3, 4}, {2, 3, 4}, {1, 4, 6}, {0, 1, 6, 7}, {1, 3, 7}, {0, 1, 3, 4}, {0, 1, 3, 4}, {0, 1, 5}, {0, 1, 3}, {0, 1, 5, 8}, {0, 1, 2, 4, 7}, {0, 1, 2, 3, 5}, {0, 3, 4}, {0, 2, 5}, {0, 1, 6}, {9, 3}, {0, 2}, {2, 5}, {0, 2}, {0, 2, 3, 4}, {5, 7}, {0, 1, 2, 3}, {0, 2}, {2, 5}, {0, 1, 3, 9}, {0, 8, 2, 4}, {3, 4}, {0, 3}, {0, 4, 5}, {0, 3}]\n"
          ]
        }
      ],
      "source": [
        "def obtener_actores_por_toma(sesion_doblaje, actores):\n",
        "    actores_participantes = []\n",
        "    for i in sesion_doblaje:\n",
        "        temporal_actores = set()\n",
        "        for j in range(actores):\n",
        "            if i[j] == 1:\n",
        "                temporal_actores.add(j)\n",
        "        actores_participantes.append(temporal_actores)\n",
        "    return actores_participantes\n",
        "\n",
        "actoresXtoma = obtener_actores_por_toma(sesion_doblaje,actores)\n",
        "print(actoresXtoma)"
      ]
    },
    {
      "cell_type": "markdown",
      "metadata": {
        "id": "1bWu0Mooirtz"
      },
      "source": [
        " Tomando inspiración del mini algoritmo anterior, podemos plantear una manera para que dado un dia $(d)$ verificar si los actores parcipantes en una toma a revisar estan presentes o no :"
      ]
    },
    {
      "cell_type": "code",
      "execution_count": null,
      "metadata": {
        "id": "NPdsHCXjirtz"
      },
      "outputs": [],
      "source": [
        "def hay_actores(d,actores_por_dia,actores_en_toma):\n",
        "    participantes_por_dia= False\n",
        "    if len(actores_por_dia[d].intersection(actores_en_toma)) > 0:\n",
        "        participantes_por_dia= True\n",
        "    return participantes_por_dia"
      ]
    },
    {
      "cell_type": "markdown",
      "metadata": {
        "id": "Ecjjo2y1irt0"
      },
      "source": [
        "Una vez se tiene una manera de elegir la mejor opción lo que resta es hacer el recorrido por cada una de las tomas y asignarlas a un dia dependiendo de la mejor opcion, formando el siguiente algoritmo voraz:"
      ]
    },
    {
      "cell_type": "code",
      "execution_count": null,
      "metadata": {
        "id": "u40oahGdirt1"
      },
      "outputs": [],
      "source": [
        "def algoritmo_voraz(tomas_ordenadas,actoresXtoma):\n",
        "    dias = []\n",
        "    actoresXdia = []\n",
        "    for toma in tomas_ordenadas:\n",
        "            d = 0\n",
        "            while d < len(dias):\n",
        "                if hay_capacidad(d, dias) and hay_actores(d, actoresXdia, actoresXtoma[toma]):\n",
        "                    dias[d].append(toma)\n",
        "                    actoresXdia[d] = actoresXdia[d].union(actoresXtoma[toma])\n",
        "                    d = len(dias)\n",
        "                d += 1\n",
        "\n",
        "            if d == len(dias):\n",
        "                dias.append([toma])\n",
        "                actoresXdia.append(actoresXtoma[toma])\n",
        "\n",
        "    return dias, actoresXdia"
      ]
    },
    {
      "cell_type": "markdown",
      "metadata": {
        "id": "euzqw9tfirt2"
      },
      "source": [
        "Usando el anterior algoritmo sobre los datos de ejemplo tenemos lo siguiente:"
      ]
    },
    {
      "cell_type": "code",
      "execution_count": null,
      "metadata": {
        "id": "XlhyMj3Rirt3",
        "outputId": "9dc8a298-1b43-49c6-f027-406bd6315954"
      },
      "outputs": [
        {
          "name": "stdout",
          "output_type": "stream",
          "text": [
            "Tras 6 dias de grabacion\n",
            "\n",
            "En el dia 1 participaron {0, 1, 2, 3, 4, 5, 6, 7, 8, 9}\n",
            "En el dia 2 participaron {0, 1, 2, 3, 4, 5, 6, 8}\n",
            "En el dia 3 participaron {0, 1, 2, 3, 4, 5, 6, 7}\n",
            "En el dia 4 participaron {0, 2, 4, 5, 7}\n",
            "En el dia 5 participaron {0, 3, 4, 9}\n",
            "En el dia 6 participaron {0, 2, 5}\n",
            "\n",
            "Asumiendo un costo C=1, el costo total es de: 38\n"
          ]
        }
      ],
      "source": [
        "tomas_por_dia, actores_por_dia = algoritmo_voraz(tomas_ordenadas,actoresXtoma)\n",
        "\n",
        "print(\"Tras \" + str(len(tomas_por_dia)) + \" dias de grabacion\\n\")\n",
        "\n",
        "total = 0\n",
        "for act in range(len(actores_por_dia)):\n",
        "    total+=len(actores_por_dia[act])\n",
        "    print(\"En el dia \"+ str(act+1) + \" participaron \"+ str(actores_por_dia[act]))\n",
        "\n",
        "print(\"\\nAsumiendo un costo C=1, el costo total es de:\", total)"
      ]
    }
  ],
  "metadata": {
    "colab": {
      "provenance": [],
      "include_colab_link": true
    },
    "kernelspec": {
      "display_name": "Python 3",
      "name": "python3"
    },
    "language_info": {
      "codemirror_mode": {
        "name": "ipython",
        "version": 3
      },
      "file_extension": ".py",
      "mimetype": "text/x-python",
      "name": "python",
      "nbconvert_exporter": "python",
      "pygments_lexer": "ipython3",
      "version": "3.11.6"
    }
  },
  "nbformat": 4,
  "nbformat_minor": 0
}